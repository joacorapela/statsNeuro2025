{
  "cells": [
    {
      "cell_type": "markdown",
      "metadata": {},
      "source": [
        "\n# Generation of a random walk with drift time series\n"
      ]
    },
    {
      "cell_type": "markdown",
      "metadata": {},
      "source": [
        "## Import requirements\n\n"
      ]
    },
    {
      "cell_type": "code",
      "execution_count": null,
      "metadata": {
        "collapsed": false
      },
      "outputs": [],
      "source": [
        "import os\nimport numpy as np\nimport plotly.graph_objects as go"
      ]
    },
    {
      "cell_type": "markdown",
      "metadata": {},
      "source": [
        "## Define variables\n\n"
      ]
    },
    {
      "cell_type": "code",
      "execution_count": null,
      "metadata": {
        "collapsed": false
      },
      "outputs": [],
      "source": [
        "srate = 1\nT = 200 # sec\nsigma = 1.0\ndelta0 = 0.0\ndelta1 = .2"
      ]
    },
    {
      "cell_type": "markdown",
      "metadata": {},
      "source": [
        "## Create white noise\n\n\n"
      ]
    },
    {
      "cell_type": "code",
      "execution_count": null,
      "metadata": {
        "collapsed": false
      },
      "outputs": [],
      "source": [
        "time = np.arange(0, T, 1.0/srate)\nN = len(time)\nw0 = np.random.normal(loc=0, scale=sigma, size=N)\nw1 = np.random.normal(loc=0, scale=sigma, size=N)"
      ]
    },
    {
      "cell_type": "markdown",
      "metadata": {},
      "source": [
        "## Create random walk with noise time series\n\n\n"
      ]
    },
    {
      "cell_type": "code",
      "execution_count": null,
      "metadata": {
        "collapsed": false
      },
      "outputs": [],
      "source": [
        "rwWithDrift0 = np.empty(N, dtype=np.double)\nrwWithDrift1 = np.empty(N, dtype=np.double)\nrwWithDrift0[0] = delta0 + w0[0]\nrwWithDrift1[0] = delta1 + w1[0]\nfor i in range(1, N):\n    rwWithDrift0[i] = delta0 + rwWithDrift0[i-1] + w0[i]\n    rwWithDrift1[i] = delta1 + rwWithDrift1[i-1] + w1[i]"
      ]
    },
    {
      "cell_type": "markdown",
      "metadata": {},
      "source": [
        "## Plot random noise with drift time series\n\n\n"
      ]
    },
    {
      "cell_type": "code",
      "execution_count": null,
      "metadata": {
        "collapsed": false
      },
      "outputs": [],
      "source": [
        "fig = go.Figure()\ntrace = go.Scatter(x=time, y=rwWithDrift0, mode=\"lines+markers\",\n                   line=dict(color=\"blue\"), name=r\"$\\delta=0.0$\")\nfig.add_trace(trace)\ntrace = go.Scatter(x=time, y=rwWithDrift1, mode=\"lines+markers\",\n                   line=dict(color=\"black\"), name=r\"$\\delta=0.2$\")\nfig.add_trace(trace)\ntrace = go.Scatter(x=[0, T], y=[0, 0], line=dict(color=\"blue\", dash=\"dot\"),\n                   mode=\"lines\", showlegend=False)\nfig.add_trace(trace)\ntrace = go.Scatter(x=[0, T], y=[0, delta1*T], line=dict(color=\"black\", dash=\"dot\"),\n                   mode=\"lines\", showlegend=False)\nfig.add_trace(trace)\nfig.update_layout(xaxis=dict(title=\"Time (sec)\"), yaxis=dict(title=\"x\"))\n\nif not os.path.exists(\"figures\"):\n    os.mkdir(\"figures\")\n\nfig.write_html(\"figures/randomWalkWithDrift.html\")\nfig.write_image(\"figures/randomWalkWithDrift.png\")\n\nfig"
      ]
    }
  ],
  "metadata": {
    "kernelspec": {
      "display_name": "Python 3",
      "language": "python",
      "name": "python3"
    },
    "language_info": {
      "codemirror_mode": {
        "name": "ipython",
        "version": 3
      },
      "file_extension": ".py",
      "mimetype": "text/x-python",
      "name": "python",
      "nbconvert_exporter": "python",
      "pygments_lexer": "ipython3",
      "version": "3.12.8"
    }
  },
  "nbformat": 4,
  "nbformat_minor": 0
}