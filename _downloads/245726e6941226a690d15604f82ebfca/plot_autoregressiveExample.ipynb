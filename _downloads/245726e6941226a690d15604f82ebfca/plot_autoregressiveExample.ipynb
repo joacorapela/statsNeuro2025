{
  "cells": [
    {
      "cell_type": "markdown",
      "metadata": {},
      "source": [
        "\n# Generation of a autoregressive time series\n"
      ]
    },
    {
      "cell_type": "markdown",
      "metadata": {},
      "source": [
        "## Import requirements\n\n"
      ]
    },
    {
      "cell_type": "code",
      "execution_count": null,
      "metadata": {
        "collapsed": false
      },
      "outputs": [],
      "source": [
        "import os\nimport numpy as np\nimport plotly.graph_objects as go"
      ]
    },
    {
      "cell_type": "markdown",
      "metadata": {},
      "source": [
        "## Define variables\n\n"
      ]
    },
    {
      "cell_type": "code",
      "execution_count": null,
      "metadata": {
        "collapsed": false
      },
      "outputs": [],
      "source": [
        "srate = 1\nT = 500\nsigma = 1.0"
      ]
    },
    {
      "cell_type": "markdown",
      "metadata": {},
      "source": [
        "## Create white noise\n\n\n"
      ]
    },
    {
      "cell_type": "code",
      "execution_count": null,
      "metadata": {
        "collapsed": false
      },
      "outputs": [],
      "source": [
        "time = np.arange(0, T, 1.0/srate)\nN = len(time)\nw = np.random.normal(loc=0, scale=sigma, size=N)"
      ]
    },
    {
      "cell_type": "markdown",
      "metadata": {},
      "source": [
        "## Create autoregressive time series\n\n\n"
      ]
    },
    {
      "cell_type": "code",
      "execution_count": null,
      "metadata": {
        "collapsed": false
      },
      "outputs": [],
      "source": [
        "ar = np.empty(len(w), dtype=np.double)\nar[0] = w[0]\nar[1] = ar[0] + w[1]\nfor i in range(2, len(w)):\n    ar[i] = ar[i-1] - 0.9 * ar[i-2] + w[i]"
      ]
    },
    {
      "cell_type": "markdown",
      "metadata": {},
      "source": [
        "## Plot autoregressive time series\n\n\n"
      ]
    },
    {
      "cell_type": "code",
      "execution_count": null,
      "metadata": {
        "collapsed": false
      },
      "outputs": [],
      "source": [
        "fig = go.Figure()\ntrace = go.Scatter(x=time, y=ar, mode=\"lines+markers\")\nfig.add_trace(trace)\nfig.update_layout(xaxis=dict(title=\"Time (sec)\"), yaxis=dict(title=\"x\"))\n\nif not os.path.exists(\"figures\"):\n    os.mkdir(\"figures\")\n\nfig.write_html(\"figures/autoregressive.html\")\nfig.write_image(\"figures/autoregressive.png\")\n\nfig"
      ]
    }
  ],
  "metadata": {
    "kernelspec": {
      "display_name": "Python 3",
      "language": "python",
      "name": "python3"
    },
    "language_info": {
      "codemirror_mode": {
        "name": "ipython",
        "version": 3
      },
      "file_extension": ".py",
      "mimetype": "text/x-python",
      "name": "python",
      "nbconvert_exporter": "python",
      "pygments_lexer": "ipython3",
      "version": "3.12.8"
    }
  },
  "nbformat": 4,
  "nbformat_minor": 0
}