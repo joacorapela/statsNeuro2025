{
  "cells": [
    {
      "cell_type": "markdown",
      "metadata": {},
      "source": [
        "\n# Generation of a signal plus noise time series\n"
      ]
    },
    {
      "cell_type": "markdown",
      "metadata": {},
      "source": [
        "## Import requirements\n\n"
      ]
    },
    {
      "cell_type": "code",
      "execution_count": null,
      "metadata": {
        "collapsed": false
      },
      "outputs": [],
      "source": [
        "import os\nimport numpy as np\nimport plotly.graph_objects as go\nimport plotly.subplots"
      ]
    },
    {
      "cell_type": "markdown",
      "metadata": {},
      "source": [
        "## Define variables\n\n"
      ]
    },
    {
      "cell_type": "code",
      "execution_count": null,
      "metadata": {
        "collapsed": false
      },
      "outputs": [],
      "source": [
        "srate = 1\nT = 200 # sec\nsigma_low = 1.0\nsigma_high = 25.0\nA = 2.0\nomega = 1.0/50\nphi = 2*np.pi*15/50"
      ]
    },
    {
      "cell_type": "markdown",
      "metadata": {},
      "source": [
        "## Create white noise\n\n\n"
      ]
    },
    {
      "cell_type": "code",
      "execution_count": null,
      "metadata": {
        "collapsed": false
      },
      "outputs": [],
      "source": [
        "time = np.arange(0, T, 1.0/srate)\nN = len(time)\nw_low = np.random.normal(loc=0, scale=sigma_low, size=N)\nw_high = np.random.normal(loc=0, scale=sigma_high, size=N)"
      ]
    },
    {
      "cell_type": "markdown",
      "metadata": {},
      "source": [
        "## Create signal plus noise time series\n\n\n"
      ]
    },
    {
      "cell_type": "code",
      "execution_count": null,
      "metadata": {
        "collapsed": false
      },
      "outputs": [],
      "source": [
        "signal = A*np.cos(2*np.pi*omega*time+phi)\nsignalInNoise_low = signal + w_low\nsignalInNoise_high = signal + w_high"
      ]
    },
    {
      "cell_type": "markdown",
      "metadata": {},
      "source": [
        "## Plot signal plus noise time series\n\n\n"
      ]
    },
    {
      "cell_type": "code",
      "execution_count": null,
      "metadata": {
        "collapsed": false
      },
      "outputs": [],
      "source": [
        "fig = plotly.subplots.make_subplots(\n    rows=3, cols=1,\n    subplot_titles=(r'$2\\cos(2\\pi t + 0.6\\pi)$',\n                    r'$2\\cos(2\\pi t + 0.6\\pi)+N(0,1)$',\n                    r'$2\\cos(2\\pi t + 0.6\\pi)+N(0,25)$'))\n\ntrace = go.Scatter(x=time, y=signal, mode=\"lines+markers\",\n                   line=dict(color=\"black\"), showlegend=False)\nfig.add_trace(trace, row=1, col=1)\ntrace = go.Scatter(x=time, y=signalInNoise_low, mode=\"lines+markers\",\n                   line=dict(color=\"black\"), showlegend=False)\nfig.add_trace(trace, row=2, col=1)\ntrace = go.Scatter(x=time, y=signalInNoise_high, mode=\"lines+markers\",\n                   line=dict(color=\"black\"), showlegend=False)\nfig.add_trace(trace, row=3, col=1)\nfig.update_xaxes(title_text=\"Time (sec)\", row=3, col=1)\n\nif not os.path.exists(\"figures\"):\n    os.mkdir(\"figures\")\n\nfig.write_html(\"figures/signalInNoise.html\")\nfig.write_image(\"figures/signalInNoise.png\")\n\nfig"
      ]
    }
  ],
  "metadata": {
    "kernelspec": {
      "display_name": "Python 3",
      "language": "python",
      "name": "python3"
    },
    "language_info": {
      "codemirror_mode": {
        "name": "ipython",
        "version": 3
      },
      "file_extension": ".py",
      "mimetype": "text/x-python",
      "name": "python",
      "nbconvert_exporter": "python",
      "pygments_lexer": "ipython3",
      "version": "3.12.8"
    }
  },
  "nbformat": 4,
  "nbformat_minor": 0
}